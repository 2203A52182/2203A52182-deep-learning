{
  "nbformat": 4,
  "nbformat_minor": 0,
  "metadata": {
    "colab": {
      "provenance": [],
      "authorship_tag": "ABX9TyNov7VmqYxFNCNWozMZEPLQ",
      "include_colab_link": true
    },
    "kernelspec": {
      "name": "python3",
      "display_name": "Python 3"
    },
    "language_info": {
      "name": "python"
    }
  },
  "cells": [
    {
      "cell_type": "markdown",
      "metadata": {
        "id": "view-in-github",
        "colab_type": "text"
      },
      "source": [
        "<a href=\"https://colab.research.google.com/github/2203A52182/2203A52182-deep-learning/blob/main/2203A5182.ipynb\" target=\"_parent\"><img src=\"https://colab.research.google.com/assets/colab-badge.svg\" alt=\"Open In Colab\"/></a>"
      ]
    },
    {
      "cell_type": "code",
      "execution_count": 1,
      "metadata": {
        "colab": {
          "base_uri": "https://localhost:8080/"
        },
        "id": "rXcKB5L_QZFF",
        "outputId": "9937fb75-763b-49d5-e656-a37ba10cbd43"
      },
      "outputs": [
        {
          "output_type": "stream",
          "name": "stdout",
          "text": [
            "Minimum value of f(x) is approximately 10.000000000774138 at x = -1.6063812442306846e-05 after 156 iterations.\n"
          ]
        }
      ],
      "source": [
        "def f(x):\n",
        "    return 5 * x**4 + 3 * x**2 + 10  # Fixed: Changed x*4 and x*2 to x**4 and x**2\n",
        "\n",
        "def f_prime(x):\n",
        "    return 20 * x**3 + 6 * x\n",
        "\n",
        "def gradient_descent_without_libs(initial_x, learning_rate, tolerance, max_iterations):\n",
        "    x = initial_x\n",
        "    iteration = 0\n",
        "    while iteration < max_iterations:\n",
        "        grad = f_prime(x)\n",
        "        new_x = x - learning_rate * grad\n",
        "        if abs(new_x - x) < tolerance:\n",
        "            break\n",
        "        x = new_x\n",
        "        iteration += 1\n",
        "    return x, f(x), iteration\n",
        "\n",
        "import random  # Added: Imported the random module\n",
        "\n",
        "initial_x = random.uniform(-10, 10)\n",
        "learning_rate = 0.01\n",
        "tolerance = 1e-6\n",
        "max_iterations = 10000\n",
        "\n",
        "min_x, min_f, iterations = gradient_descent_without_libs(initial_x, learning_rate, tolerance, max_iterations)\n",
        "print(f\"Minimum value of f(x) is approximately {min_f} at x = {min_x} after {iterations} iterations.\")"
      ]
    },
    {
      "cell_type": "code",
      "source": [
        "def g(x, y):\n",
        "    return 3 * x*2 + 5 * (2.71828*(-y)) + 10\n",
        "def g_prime_x(x, y):\n",
        "    return 6 * x\n",
        "def g_prime_y(x, y):\n",
        "    return -5 * (2.71828**(-y))\n",
        "def gradient_descent_without_libs(initial_x, initial_y, learning_rate, tolerance, max_iterations):\n",
        "    x, y = initial_x, initial_y\n",
        "    iteration = 0\n",
        "    while iteration < max_iterations:\n",
        "        grad_x = g_prime_x(x, y)\n",
        "        grad_y = g_prime_y(x, y)\n",
        "        new_x = x - learning_rate * grad_x\n",
        "        new_y = y - learning_rate * grad_y\n",
        "        if abs(new_x - x) < tolerance and abs(new_y - y) < tolerance:\n",
        "            break\n",
        "        x, y = new_x, new_y\n",
        "        iteration += 1\n",
        "    return x, y, g(x, y), iteration\n",
        "initial_x = random.uniform(-10,10)\n",
        "initial_y = random.uniform(-10,10)\n",
        "learning_rate = 0.01\n",
        "tolerance = 1e-6\n",
        "max_iterations = 10000\n",
        "min_x, min_y, min_g, iterations = gradient_descent_without_libs(initial_x, initial_y, learning_rate, tolerance, max_iterations)\n",
        "print(f\"Minimum value of g(x, y) is approximately {min_g} at x = {min_x}, y = {min_y} after {iterations} iterations.\")"
      ],
      "metadata": {
        "colab": {
          "base_uri": "https://localhost:8080/"
        },
        "id": "z7dEqAssQiO1",
        "outputId": "8a0d485f-7fea-4459-ee16-3c0c83868cd6"
      },
      "execution_count": 2,
      "outputs": [
        {
          "output_type": "stream",
          "name": "stdout",
          "text": [
            "Minimum value of g(x, y) is approximately -113.56110957418865 at x = -9.048419070570259e-269, y = 9.091124503302725 after 10000 iterations.\n"
          ]
        }
      ]
    },
    {
      "cell_type": "code",
      "source": [
        "def z(x):\n",
        "    return 1 / (1 + 2.71828**(-x))\n",
        "def z_prime(x):\n",
        "    sigmoid = z(x)\n",
        "    return sigmoid * (1 - sigmoid)\n",
        "def gradient_descent_without_libs(initial_x, learning_rate, tolerance, max_iterations):\n",
        "    x = initial_x\n",
        "    iteration = 0\n",
        "    while iteration < max_iterations:\n",
        "        grad = z_prime(x)\n",
        "        new_x = x - learning_rate * grad\n",
        "        if abs(new_x - x) < tolerance:\n",
        "            break\n",
        "        x = new_x\n",
        "        iteration += 1\n",
        "    return x, z_prime(x), iteration\n",
        "initial_x = random.uniform(-10,10)\n",
        "learning_rate = 0.01\n",
        "tolerance = 1e-6\n",
        "max_iterations = 10000\n",
        "min_x, min_z_prime, iterations = gradient_descent_without_libs(initial_x, learning_rate, tolerance, max_iterations)\n",
        "print(f\"Minimum value of z'(x) is approximately {min_z_prime} at x = {min_x} after {iterations} iterations.\")"
      ],
      "metadata": {
        "colab": {
          "base_uri": "https://localhost:8080/"
        },
        "id": "BLqDC7AnQpnN",
        "outputId": "241482bc-1be0-4fed-b576-3f29acfdde99"
      },
      "execution_count": 3,
      "outputs": [
        {
          "output_type": "stream",
          "name": "stdout",
          "text": [
            "Minimum value of z'(x) is approximately 0.005829772193259034 at x = 5.133017962476778 after 10000 iterations.\n"
          ]
        }
      ]
    },
    {
      "cell_type": "code",
      "source": [
        "import numpy as np\n",
        "def g(x, y):\n",
        "    return 3 * x**2 + 5 * np.exp(-y) + 10\n",
        "def g_prime_x(x, y):\n",
        "    return 6 * x\n",
        "def g_prime_y(x, y):\n",
        "    return -5 * np.exp(-y)\n",
        "def gradient_descent_with_libs(initial_x, initial_y, learning_rate, tolerance, max_iterations):\n",
        "    x, y = initial_x, initial_y\n",
        "    for iteration in range(max_iterations):\n",
        "        grad_x = g_prime_x(x, y)\n",
        "        grad_y = g_prime_y(x, y)\n",
        "        new_x = x - learning_rate * grad_x\n",
        "        new_y = y - learning_rate * grad_y\n",
        "        if np.abs(new_x - x) < tolerance and np.abs(new_y - y) < tolerance:\n",
        "            break\n",
        "        x, y = new_x, new_y\n",
        "    return x, y, g(x, y), iteration + 1\n",
        "initial_x = random.uniform(-10,10)\n",
        "initial_y = random.uniform(-10,10)\n",
        "learning_rate = 0.01\n",
        "tolerance = 1e-6\n",
        "max_iterations = 10000\n",
        "min_x, min_y, min_g, iterations = gradient_descent_with_libs(initial_x, initial_y, learning_rate, tolerance, max_iterations)\n",
        "print(f\"Minimum value of g(x, y) is approximately {min_g} at x = {min_x}, y = {min_y} after {iterations} iterations.\")"
      ],
      "metadata": {
        "colab": {
          "base_uri": "https://localhost:8080/"
        },
        "id": "_z-6ihvfQuKV",
        "outputId": "86305589-aa3c-4ead-b648-8923d23e70cd"
      },
      "execution_count": 5,
      "outputs": [
        {
          "output_type": "stream",
          "name": "stdout",
          "text": [
            "Minimum value of g(x, y) is approximately 10.008711754222277 at x = 1.101730103136316e-268, y = 6.352520017584138 after 10000 iterations.\n"
          ]
        }
      ]
    },
    {
      "cell_type": "code",
      "source": [
        "import random\n",
        "M = random.uniform(-10, 10)\n",
        "C = random.uniform(-10, 10)\n",
        "x = 2\n",
        "y = 0.5\n",
        "alpha = 0.1\n",
        "\n",
        "for i in range(100):\n",
        "    y_p = M * x + C\n",
        "\n",
        "    dM = -2 * x * (y - y_p)\n",
        "    dC = -2 * (y - y_p)\n",
        "\n",
        "     # Update parameters\n",
        "    M = M - alpha * dM\n",
        "    C = C - alpha * dC\n",
        "\n",
        "print(f\"M: {M}\")\n",
        "print(f\"C: {C}\")"
      ],
      "metadata": {
        "colab": {
          "base_uri": "https://localhost:8080/"
        },
        "id": "sIlnLegrQ1cU",
        "outputId": "6797bff1-e978-4a61-d7a8-97b4b05310e7"
      },
      "execution_count": 6,
      "outputs": [
        {
          "output_type": "stream",
          "name": "stdout",
          "text": [
            "M: -1.0381220708407597\n",
            "C: 2.5762441416815194\n"
          ]
        }
      ]
    }
  ]
}
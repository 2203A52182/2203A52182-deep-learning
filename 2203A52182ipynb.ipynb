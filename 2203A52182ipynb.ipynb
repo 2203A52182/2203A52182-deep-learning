{
  "nbformat": 4,
  "nbformat_minor": 0,
  "metadata": {
    "colab": {
      "provenance": [],
      "authorship_tag": "ABX9TyN9leP6nqRZGiL9OZ95zEQt",
      "include_colab_link": true
    },
    "kernelspec": {
      "name": "python3",
      "display_name": "Python 3"
    },
    "language_info": {
      "name": "python"
    }
  },
  "cells": [
    {
      "cell_type": "markdown",
      "metadata": {
        "id": "view-in-github",
        "colab_type": "text"
      },
      "source": [
        "<a href=\"https://colab.research.google.com/github/2203A52182/2203A52182-deep-learning/blob/main/2203A52182ipynb.ipynb\" target=\"_parent\"><img src=\"https://colab.research.google.com/assets/colab-badge.svg\" alt=\"Open In Colab\"/></a>"
      ]
    },
    {
      "cell_type": "code",
      "execution_count": 1,
      "metadata": {
        "colab": {
          "base_uri": "https://localhost:8080/"
        },
        "id": "bmp84DJYP-KZ",
        "outputId": "e7406367-90a4-4a10-a52c-5323254248b9"
      },
      "outputs": [
        {
          "output_type": "stream",
          "name": "stdout",
          "text": [
            "Maximum profit: Rs 27.00\n",
            "Number of chocolates A: 2.00\n",
            "Number of chocolates B: 3.00\n"
          ]
        }
      ],
      "source": [
        "from scipy.optimize import linprog\n",
        "objective = [-6, -5]\n",
        "lhs_ineq = [\n",
        "    [1, 1],\n",
        "    [3, 2]\n",
        "]\n",
        "rhs_ineq = [5, 12]\n",
        "bounds = [(0, None), (0, None)]\n",
        "result = linprog(c=objective, A_ub=lhs_ineq, b_ub=rhs_ineq, bounds=bounds, method=\"highs\")\n",
        "if result.success:\n",
        "    print(f\"Maximum profit: Rs {-result.fun:.2f}\")\n",
        "    print(f\"Number of chocolates A: {result.x[0]:.2f}\")\n",
        "    print(f\"Number of chocolates B: {result.x[1]:.2f}\")\n",
        "else:\n",
        "    print(\"No solution found.\")"
      ]
    },
    {
      "cell_type": "code",
      "source": [
        "from scipy.optimize import linprog\n",
        "objective = [-50, -120]\n",
        "lhs_ineq = [\n",
        "    [1, 1],\n",
        "    [7000, 2000],\n",
        "    [10, 30]\n",
        "]\n",
        "rhs_ineq = [110, 700000, 1200]\n",
        "bounds = [(0, None), (0, None)]\n",
        "result = linprog(c=objective, A_ub=lhs_ineq, b_ub=rhs_ineq, bounds=bounds, method=\"highs\")\n",
        "if result.success:\n",
        "    print(f\"Maximum profit: Rs {-result.fun:.2f}\")\n",
        "    print(f\"Optimal area for Wheat: {result.x[0]:.2f} hectares\")\n",
        "    print(f\"Optimal area for Barley: {result.x[1]:.2f} hectares\")\n",
        "else:\n",
        "    print(\"No solution found.\")"
      ],
      "metadata": {
        "colab": {
          "base_uri": "https://localhost:8080/"
        },
        "id": "1XW-ku-rQIc9",
        "outputId": "b56918b4-3c03-4062-cc7a-e0d7124d69a6"
      },
      "execution_count": 2,
      "outputs": [
        {
          "output_type": "stream",
          "name": "stdout",
          "text": [
            "Maximum profit: Rs 5778.95\n",
            "Optimal area for Wheat: 97.89 hectares\n",
            "Optimal area for Barley: 7.37 hectares\n"
          ]
        }
      ]
    }
  ]
}